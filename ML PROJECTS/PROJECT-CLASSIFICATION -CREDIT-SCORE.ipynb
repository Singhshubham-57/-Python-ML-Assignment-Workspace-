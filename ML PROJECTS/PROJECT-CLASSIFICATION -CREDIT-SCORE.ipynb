{
 "cells": [
  {
   "cell_type": "markdown",
   "id": "f5b49d84",
   "metadata": {},
   "source": [
    "## Classification -Credit Score\n"
   ]
  },
  {
   "cell_type": "markdown",
   "id": "802143a1",
   "metadata": {},
   "source": [
    "## Over the years, the company has collected basic bank details and gathered a lot of credit-related information. The management wants to build an intelligent system to segregate the people into credit score brackets to reduce the manual efforts. Given a person’s credit-related information, build a machine learning model that can classify the credit score"
   ]
  },
  {
   "cell_type": "markdown",
   "id": "a590536d",
   "metadata": {},
   "source": [
    "### Importing the Libraries"
   ]
  },
  {
   "cell_type": "code",
   "execution_count": 1,
   "id": "1dca0b58",
   "metadata": {},
   "outputs": [],
   "source": [
    "import pandas as pd\n",
    "import numpy as np\n",
    "import matplotlib.pyplot as plt\n",
    "import seaborn as sns\n",
    "%matplotlib inline"
   ]
  },
  {
   "cell_type": "markdown",
   "id": "69978b70",
   "metadata": {},
   "source": [
    "### Loading the Data"
   ]
  },
  {
   "cell_type": "code",
   "execution_count": 2,
   "id": "0cee4fa4",
   "metadata": {},
   "outputs": [
    {
     "name": "stderr",
     "output_type": "stream",
     "text": [
      "C:\\Users\\hp\\AppData\\Local\\Temp\\ipykernel_8648\\1920184309.py:1: DtypeWarning: Columns (26) have mixed types. Specify dtype option on import or set low_memory=False.\n",
      "  df = pd.read_csv(r\"C:\\Users\\hp\\Downloads\\Credit_Score\\credit_score.csv\")\n"
     ]
    }
   ],
   "source": [
    "df = pd.read_csv(r\"C:\\Users\\hp\\Downloads\\Credit_Score\\credit_score.csv\")"
   ]
  },
  {
   "cell_type": "code",
   "execution_count": 3,
   "id": "6dc38eee",
   "metadata": {},
   "outputs": [
    {
     "data": {
      "text/html": [
       "<div>\n",
       "<style scoped>\n",
       "    .dataframe tbody tr th:only-of-type {\n",
       "        vertical-align: middle;\n",
       "    }\n",
       "\n",
       "    .dataframe tbody tr th {\n",
       "        vertical-align: top;\n",
       "    }\n",
       "\n",
       "    .dataframe thead th {\n",
       "        text-align: right;\n",
       "    }\n",
       "</style>\n",
       "<table border=\"1\" class=\"dataframe\">\n",
       "  <thead>\n",
       "    <tr style=\"text-align: right;\">\n",
       "      <th></th>\n",
       "      <th>ID</th>\n",
       "      <th>Customer_ID</th>\n",
       "      <th>Month</th>\n",
       "      <th>Name</th>\n",
       "      <th>Age</th>\n",
       "      <th>SSN</th>\n",
       "      <th>Occupation</th>\n",
       "      <th>Annual_Income</th>\n",
       "      <th>Monthly_Inhand_Salary</th>\n",
       "      <th>Num_Bank_Accounts</th>\n",
       "      <th>...</th>\n",
       "      <th>Credit_Mix</th>\n",
       "      <th>Outstanding_Debt</th>\n",
       "      <th>Credit_Utilization_Ratio</th>\n",
       "      <th>Credit_History_Age</th>\n",
       "      <th>Payment_of_Min_Amount</th>\n",
       "      <th>Total_EMI_per_month</th>\n",
       "      <th>Amount_invested_monthly</th>\n",
       "      <th>Payment_Behaviour</th>\n",
       "      <th>Monthly_Balance</th>\n",
       "      <th>Credit_Score</th>\n",
       "    </tr>\n",
       "  </thead>\n",
       "  <tbody>\n",
       "    <tr>\n",
       "      <th>9058</th>\n",
       "      <td>0x4b14</td>\n",
       "      <td>CUS_0x4a9b</td>\n",
       "      <td>March</td>\n",
       "      <td>Mattm</td>\n",
       "      <td>18</td>\n",
       "      <td>873-48-7202</td>\n",
       "      <td>Manager</td>\n",
       "      <td>9734.325_</td>\n",
       "      <td>876.193750</td>\n",
       "      <td>8</td>\n",
       "      <td>...</td>\n",
       "      <td>Bad</td>\n",
       "      <td>2558.01</td>\n",
       "      <td>29.818004</td>\n",
       "      <td>NaN</td>\n",
       "      <td>Yes</td>\n",
       "      <td>17.853985</td>\n",
       "      <td>38.09216696188389</td>\n",
       "      <td>Low_spent_Large_value_payments</td>\n",
       "      <td>301.6732226101504</td>\n",
       "      <td>Standard</td>\n",
       "    </tr>\n",
       "    <tr>\n",
       "      <th>38091</th>\n",
       "      <td>0xf531</td>\n",
       "      <td>CUS_0xc2ff</td>\n",
       "      <td>April</td>\n",
       "      <td>en Klaymang</td>\n",
       "      <td>27</td>\n",
       "      <td>929-86-3226</td>\n",
       "      <td>Architect</td>\n",
       "      <td>33235.35</td>\n",
       "      <td>2910.612500</td>\n",
       "      <td>3</td>\n",
       "      <td>...</td>\n",
       "      <td>Standard</td>\n",
       "      <td>212.69</td>\n",
       "      <td>26.593292</td>\n",
       "      <td>NaN</td>\n",
       "      <td>Yes</td>\n",
       "      <td>0.000000</td>\n",
       "      <td>370.05489441773864</td>\n",
       "      <td>Low_spent_Small_value_payments</td>\n",
       "      <td>211.0063555822614</td>\n",
       "      <td>Standard</td>\n",
       "    </tr>\n",
       "    <tr>\n",
       "      <th>83625</th>\n",
       "      <td>0x1ffff</td>\n",
       "      <td>CUS_0x649e</td>\n",
       "      <td>February</td>\n",
       "      <td>NaN</td>\n",
       "      <td>23</td>\n",
       "      <td>815-38-6088</td>\n",
       "      <td>Musician</td>\n",
       "      <td>69324.4</td>\n",
       "      <td>5509.033333</td>\n",
       "      <td>4</td>\n",
       "      <td>...</td>\n",
       "      <td>_</td>\n",
       "      <td>1075.73</td>\n",
       "      <td>30.664036</td>\n",
       "      <td>17 Years and 2 Months</td>\n",
       "      <td>Yes</td>\n",
       "      <td>115.008706</td>\n",
       "      <td>72.46139088964217</td>\n",
       "      <td>High_spent_Medium_value_payments</td>\n",
       "      <td>613.4332361896106</td>\n",
       "      <td>Standard</td>\n",
       "    </tr>\n",
       "    <tr>\n",
       "      <th>52179</th>\n",
       "      <td>0x147bd</td>\n",
       "      <td>CUS_0x1d28</td>\n",
       "      <td>April</td>\n",
       "      <td>Mutikanim</td>\n",
       "      <td>21</td>\n",
       "      <td>075-04-2227</td>\n",
       "      <td>Entrepreneur</td>\n",
       "      <td>16644.79</td>\n",
       "      <td>1547.065833</td>\n",
       "      <td>7</td>\n",
       "      <td>...</td>\n",
       "      <td>Bad</td>\n",
       "      <td>3519.49</td>\n",
       "      <td>34.569514</td>\n",
       "      <td>4 Years and 11 Months</td>\n",
       "      <td>Yes</td>\n",
       "      <td>100.765767</td>\n",
       "      <td>144.92561300192372</td>\n",
       "      <td>Low_spent_Small_value_payments</td>\n",
       "      <td>199.0152033321068</td>\n",
       "      <td>Poor</td>\n",
       "    </tr>\n",
       "    <tr>\n",
       "      <th>34984</th>\n",
       "      <td>0xe2fe</td>\n",
       "      <td>CUS_0x6e98</td>\n",
       "      <td>January</td>\n",
       "      <td>Flaki</td>\n",
       "      <td>25_</td>\n",
       "      <td>096-42-8765</td>\n",
       "      <td>Accountant</td>\n",
       "      <td>16063.455</td>\n",
       "      <td>NaN</td>\n",
       "      <td>8</td>\n",
       "      <td>...</td>\n",
       "      <td>Standard</td>\n",
       "      <td>355.79</td>\n",
       "      <td>27.137066</td>\n",
       "      <td>15 Years and 10 Months</td>\n",
       "      <td>Yes</td>\n",
       "      <td>22.059651</td>\n",
       "      <td>99.02338177286974</td>\n",
       "      <td>Low_spent_Medium_value_payments</td>\n",
       "      <td>273.1790925340325</td>\n",
       "      <td>Standard</td>\n",
       "    </tr>\n",
       "    <tr>\n",
       "      <th>12394</th>\n",
       "      <td>0x5ea0</td>\n",
       "      <td>CUS_0x1309</td>\n",
       "      <td>March</td>\n",
       "      <td>Mirnaw</td>\n",
       "      <td>51</td>\n",
       "      <td>691-12-6696</td>\n",
       "      <td>Writer</td>\n",
       "      <td>106876.77</td>\n",
       "      <td>NaN</td>\n",
       "      <td>4</td>\n",
       "      <td>...</td>\n",
       "      <td>Good</td>\n",
       "      <td>356.07</td>\n",
       "      <td>39.489785</td>\n",
       "      <td>29 Years and 0 Months</td>\n",
       "      <td>No</td>\n",
       "      <td>62.242581</td>\n",
       "      <td>174.96586665368596</td>\n",
       "      <td>High_spent_Large_value_payments</td>\n",
       "      <td>917.7313026893892</td>\n",
       "      <td>Good</td>\n",
       "    </tr>\n",
       "    <tr>\n",
       "      <th>56103</th>\n",
       "      <td>0x15eb9</td>\n",
       "      <td>CUS_0x27b9</td>\n",
       "      <td>August</td>\n",
       "      <td>Ryan Vlastelicae</td>\n",
       "      <td>18</td>\n",
       "      <td>763-32-6416</td>\n",
       "      <td>Teacher</td>\n",
       "      <td>28356.18</td>\n",
       "      <td>2425.015000</td>\n",
       "      <td>10</td>\n",
       "      <td>...</td>\n",
       "      <td>Bad</td>\n",
       "      <td>4157.2</td>\n",
       "      <td>34.062940</td>\n",
       "      <td>5 Years and 6 Months</td>\n",
       "      <td>Yes</td>\n",
       "      <td>140.698443</td>\n",
       "      <td>29.147123157747675</td>\n",
       "      <td>High_spent_Large_value_payments</td>\n",
       "      <td>312.65593372051234</td>\n",
       "      <td>Standard</td>\n",
       "    </tr>\n",
       "    <tr>\n",
       "      <th>17349</th>\n",
       "      <td>0x7ba7</td>\n",
       "      <td>CUS_0x2477</td>\n",
       "      <td>June</td>\n",
       "      <td>NaN</td>\n",
       "      <td>26</td>\n",
       "      <td>931-19-6828</td>\n",
       "      <td>Mechanic</td>\n",
       "      <td>45404.4</td>\n",
       "      <td>3821.700000</td>\n",
       "      <td>9</td>\n",
       "      <td>...</td>\n",
       "      <td>Standard</td>\n",
       "      <td>2313.6</td>\n",
       "      <td>30.097167</td>\n",
       "      <td>15 Years and 8 Months</td>\n",
       "      <td>NM</td>\n",
       "      <td>195.240288</td>\n",
       "      <td>130.4259689008787</td>\n",
       "      <td>High_spent_Small_value_payments</td>\n",
       "      <td>316.5037428036972</td>\n",
       "      <td>Standard</td>\n",
       "    </tr>\n",
       "    <tr>\n",
       "      <th>60458</th>\n",
       "      <td>0x17840</td>\n",
       "      <td>CUS_0x5f25</td>\n",
       "      <td>March</td>\n",
       "      <td>Sarah N.o</td>\n",
       "      <td>48</td>\n",
       "      <td>#F%$D@*&amp;8</td>\n",
       "      <td>Media_Manager</td>\n",
       "      <td>121233.51</td>\n",
       "      <td>10393.792500</td>\n",
       "      <td>2</td>\n",
       "      <td>...</td>\n",
       "      <td>Good</td>\n",
       "      <td>1116.67</td>\n",
       "      <td>40.424987</td>\n",
       "      <td>23 Years and 5 Months</td>\n",
       "      <td>No</td>\n",
       "      <td>191.017350</td>\n",
       "      <td>274.5270331580067</td>\n",
       "      <td>High_spent_Medium_value_payments</td>\n",
       "      <td>823.8348667944424</td>\n",
       "      <td>Good</td>\n",
       "    </tr>\n",
       "    <tr>\n",
       "      <th>58875</th>\n",
       "      <td>0x16ef9</td>\n",
       "      <td>CUS_0xa70f</td>\n",
       "      <td>April</td>\n",
       "      <td>Reaneya</td>\n",
       "      <td>45_</td>\n",
       "      <td>338-92-1938</td>\n",
       "      <td>Accountant</td>\n",
       "      <td>18295.61_</td>\n",
       "      <td>1456.634167</td>\n",
       "      <td>7</td>\n",
       "      <td>...</td>\n",
       "      <td>Standard</td>\n",
       "      <td>2041.46</td>\n",
       "      <td>27.723961</td>\n",
       "      <td>18 Years and 1 Months</td>\n",
       "      <td>Yes</td>\n",
       "      <td>69.272824</td>\n",
       "      <td>190.93745936056882</td>\n",
       "      <td>Low_spent_Small_value_payments</td>\n",
       "      <td>175.45313314120872</td>\n",
       "      <td>Poor</td>\n",
       "    </tr>\n",
       "  </tbody>\n",
       "</table>\n",
       "<p>10 rows × 28 columns</p>\n",
       "</div>"
      ],
      "text/plain": [
       "            ID Customer_ID     Month              Name  Age          SSN  \\\n",
       "9058    0x4b14  CUS_0x4a9b     March             Mattm   18  873-48-7202   \n",
       "38091   0xf531  CUS_0xc2ff     April       en Klaymang   27  929-86-3226   \n",
       "83625  0x1ffff  CUS_0x649e  February               NaN   23  815-38-6088   \n",
       "52179  0x147bd  CUS_0x1d28     April         Mutikanim   21  075-04-2227   \n",
       "34984   0xe2fe  CUS_0x6e98   January             Flaki  25_  096-42-8765   \n",
       "12394   0x5ea0  CUS_0x1309     March            Mirnaw   51  691-12-6696   \n",
       "56103  0x15eb9  CUS_0x27b9    August  Ryan Vlastelicae   18  763-32-6416   \n",
       "17349   0x7ba7  CUS_0x2477      June               NaN   26  931-19-6828   \n",
       "60458  0x17840  CUS_0x5f25     March         Sarah N.o   48    #F%$D@*&8   \n",
       "58875  0x16ef9  CUS_0xa70f     April           Reaneya  45_  338-92-1938   \n",
       "\n",
       "          Occupation Annual_Income  Monthly_Inhand_Salary  Num_Bank_Accounts  \\\n",
       "9058         Manager     9734.325_             876.193750                  8   \n",
       "38091      Architect      33235.35            2910.612500                  3   \n",
       "83625       Musician       69324.4            5509.033333                  4   \n",
       "52179   Entrepreneur      16644.79            1547.065833                  7   \n",
       "34984     Accountant     16063.455                    NaN                  8   \n",
       "12394         Writer     106876.77                    NaN                  4   \n",
       "56103        Teacher      28356.18            2425.015000                 10   \n",
       "17349       Mechanic       45404.4            3821.700000                  9   \n",
       "60458  Media_Manager     121233.51           10393.792500                  2   \n",
       "58875     Accountant     18295.61_            1456.634167                  7   \n",
       "\n",
       "       ...  Credit_Mix  Outstanding_Debt Credit_Utilization_Ratio  \\\n",
       "9058   ...         Bad           2558.01                29.818004   \n",
       "38091  ...    Standard            212.69                26.593292   \n",
       "83625  ...           _           1075.73                30.664036   \n",
       "52179  ...         Bad           3519.49                34.569514   \n",
       "34984  ...    Standard            355.79                27.137066   \n",
       "12394  ...        Good            356.07                39.489785   \n",
       "56103  ...         Bad            4157.2                34.062940   \n",
       "17349  ...    Standard            2313.6                30.097167   \n",
       "60458  ...        Good           1116.67                40.424987   \n",
       "58875  ...    Standard           2041.46                27.723961   \n",
       "\n",
       "           Credit_History_Age  Payment_of_Min_Amount Total_EMI_per_month  \\\n",
       "9058                      NaN                    Yes           17.853985   \n",
       "38091                     NaN                    Yes            0.000000   \n",
       "83625   17 Years and 2 Months                    Yes          115.008706   \n",
       "52179   4 Years and 11 Months                    Yes          100.765767   \n",
       "34984  15 Years and 10 Months                    Yes           22.059651   \n",
       "12394   29 Years and 0 Months                     No           62.242581   \n",
       "56103    5 Years and 6 Months                    Yes          140.698443   \n",
       "17349   15 Years and 8 Months                     NM          195.240288   \n",
       "60458   23 Years and 5 Months                     No          191.017350   \n",
       "58875   18 Years and 1 Months                    Yes           69.272824   \n",
       "\n",
       "      Amount_invested_monthly                 Payment_Behaviour  \\\n",
       "9058        38.09216696188389    Low_spent_Large_value_payments   \n",
       "38091      370.05489441773864    Low_spent_Small_value_payments   \n",
       "83625       72.46139088964217  High_spent_Medium_value_payments   \n",
       "52179      144.92561300192372    Low_spent_Small_value_payments   \n",
       "34984       99.02338177286974   Low_spent_Medium_value_payments   \n",
       "12394      174.96586665368596   High_spent_Large_value_payments   \n",
       "56103      29.147123157747675   High_spent_Large_value_payments   \n",
       "17349       130.4259689008787   High_spent_Small_value_payments   \n",
       "60458       274.5270331580067  High_spent_Medium_value_payments   \n",
       "58875      190.93745936056882    Low_spent_Small_value_payments   \n",
       "\n",
       "          Monthly_Balance Credit_Score  \n",
       "9058    301.6732226101504     Standard  \n",
       "38091   211.0063555822614     Standard  \n",
       "83625   613.4332361896106     Standard  \n",
       "52179   199.0152033321068         Poor  \n",
       "34984   273.1790925340325     Standard  \n",
       "12394   917.7313026893892         Good  \n",
       "56103  312.65593372051234     Standard  \n",
       "17349   316.5037428036972     Standard  \n",
       "60458   823.8348667944424         Good  \n",
       "58875  175.45313314120872         Poor  \n",
       "\n",
       "[10 rows x 28 columns]"
      ]
     },
     "execution_count": 3,
     "metadata": {},
     "output_type": "execute_result"
    }
   ],
   "source": [
    "df.sample(10)"
   ]
  },
  {
   "cell_type": "code",
   "execution_count": 4,
   "id": "3a05f1d6",
   "metadata": {},
   "outputs": [
    {
     "name": "stdout",
     "output_type": "stream",
     "text": [
      "<class 'pandas.core.frame.DataFrame'>\n",
      "RangeIndex: 100000 entries, 0 to 99999\n",
      "Data columns (total 28 columns):\n",
      " #   Column                    Non-Null Count   Dtype  \n",
      "---  ------                    --------------   -----  \n",
      " 0   ID                        100000 non-null  object \n",
      " 1   Customer_ID               100000 non-null  object \n",
      " 2   Month                     100000 non-null  object \n",
      " 3   Name                      90015 non-null   object \n",
      " 4   Age                       100000 non-null  object \n",
      " 5   SSN                       100000 non-null  object \n",
      " 6   Occupation                100000 non-null  object \n",
      " 7   Annual_Income             100000 non-null  object \n",
      " 8   Monthly_Inhand_Salary     84998 non-null   float64\n",
      " 9   Num_Bank_Accounts         100000 non-null  int64  \n",
      " 10  Num_Credit_Card           100000 non-null  int64  \n",
      " 11  Interest_Rate             100000 non-null  int64  \n",
      " 12  Num_of_Loan               100000 non-null  object \n",
      " 13  Type_of_Loan              88592 non-null   object \n",
      " 14  Delay_from_due_date       100000 non-null  int64  \n",
      " 15  Num_of_Delayed_Payment    92998 non-null   object \n",
      " 16  Changed_Credit_Limit      100000 non-null  object \n",
      " 17  Num_Credit_Inquiries      98035 non-null   float64\n",
      " 18  Credit_Mix                100000 non-null  object \n",
      " 19  Outstanding_Debt          100000 non-null  object \n",
      " 20  Credit_Utilization_Ratio  100000 non-null  float64\n",
      " 21  Credit_History_Age        90970 non-null   object \n",
      " 22  Payment_of_Min_Amount     100000 non-null  object \n",
      " 23  Total_EMI_per_month       100000 non-null  float64\n",
      " 24  Amount_invested_monthly   95521 non-null   object \n",
      " 25  Payment_Behaviour         100000 non-null  object \n",
      " 26  Monthly_Balance           98800 non-null   object \n",
      " 27  Credit_Score              100000 non-null  object \n",
      "dtypes: float64(4), int64(4), object(20)\n",
      "memory usage: 21.4+ MB\n"
     ]
    }
   ],
   "source": [
    "df.info()"
   ]
  },
  {
   "cell_type": "code",
   "execution_count": 5,
   "id": "b2204386",
   "metadata": {},
   "outputs": [
    {
     "data": {
      "text/plain": [
       "(100000, 28)"
      ]
     },
     "execution_count": 5,
     "metadata": {},
     "output_type": "execute_result"
    }
   ],
   "source": [
    "df.shape"
   ]
  },
  {
   "cell_type": "markdown",
   "id": "3400fdd1",
   "metadata": {},
   "source": [
    "## Credit score dataset contains 1 lac records with 28 features"
   ]
  },
  {
   "cell_type": "code",
   "execution_count": 6,
   "id": "51d08322",
   "metadata": {},
   "outputs": [
    {
     "data": {
      "text/html": [
       "<div>\n",
       "<style scoped>\n",
       "    .dataframe tbody tr th:only-of-type {\n",
       "        vertical-align: middle;\n",
       "    }\n",
       "\n",
       "    .dataframe tbody tr th {\n",
       "        vertical-align: top;\n",
       "    }\n",
       "\n",
       "    .dataframe thead th {\n",
       "        text-align: right;\n",
       "    }\n",
       "</style>\n",
       "<table border=\"1\" class=\"dataframe\">\n",
       "  <thead>\n",
       "    <tr style=\"text-align: right;\">\n",
       "      <th></th>\n",
       "      <th>Monthly_Inhand_Salary</th>\n",
       "      <th>Num_Bank_Accounts</th>\n",
       "      <th>Num_Credit_Card</th>\n",
       "      <th>Interest_Rate</th>\n",
       "      <th>Delay_from_due_date</th>\n",
       "      <th>Num_Credit_Inquiries</th>\n",
       "      <th>Credit_Utilization_Ratio</th>\n",
       "      <th>Total_EMI_per_month</th>\n",
       "    </tr>\n",
       "  </thead>\n",
       "  <tbody>\n",
       "    <tr>\n",
       "      <th>count</th>\n",
       "      <td>84998.000000</td>\n",
       "      <td>100000.000000</td>\n",
       "      <td>100000.00000</td>\n",
       "      <td>100000.000000</td>\n",
       "      <td>100000.000000</td>\n",
       "      <td>98035.000000</td>\n",
       "      <td>100000.000000</td>\n",
       "      <td>100000.000000</td>\n",
       "    </tr>\n",
       "    <tr>\n",
       "      <th>mean</th>\n",
       "      <td>4194.170850</td>\n",
       "      <td>17.091280</td>\n",
       "      <td>22.47443</td>\n",
       "      <td>72.466040</td>\n",
       "      <td>21.068780</td>\n",
       "      <td>27.754251</td>\n",
       "      <td>32.285173</td>\n",
       "      <td>1403.118217</td>\n",
       "    </tr>\n",
       "    <tr>\n",
       "      <th>std</th>\n",
       "      <td>3183.686167</td>\n",
       "      <td>117.404834</td>\n",
       "      <td>129.05741</td>\n",
       "      <td>466.422621</td>\n",
       "      <td>14.860104</td>\n",
       "      <td>193.177339</td>\n",
       "      <td>5.116875</td>\n",
       "      <td>8306.041270</td>\n",
       "    </tr>\n",
       "    <tr>\n",
       "      <th>min</th>\n",
       "      <td>303.645417</td>\n",
       "      <td>-1.000000</td>\n",
       "      <td>0.00000</td>\n",
       "      <td>1.000000</td>\n",
       "      <td>-5.000000</td>\n",
       "      <td>0.000000</td>\n",
       "      <td>20.000000</td>\n",
       "      <td>0.000000</td>\n",
       "    </tr>\n",
       "    <tr>\n",
       "      <th>25%</th>\n",
       "      <td>1625.568229</td>\n",
       "      <td>3.000000</td>\n",
       "      <td>4.00000</td>\n",
       "      <td>8.000000</td>\n",
       "      <td>10.000000</td>\n",
       "      <td>3.000000</td>\n",
       "      <td>28.052567</td>\n",
       "      <td>30.306660</td>\n",
       "    </tr>\n",
       "    <tr>\n",
       "      <th>50%</th>\n",
       "      <td>3093.745000</td>\n",
       "      <td>6.000000</td>\n",
       "      <td>5.00000</td>\n",
       "      <td>13.000000</td>\n",
       "      <td>18.000000</td>\n",
       "      <td>6.000000</td>\n",
       "      <td>32.305784</td>\n",
       "      <td>69.249473</td>\n",
       "    </tr>\n",
       "    <tr>\n",
       "      <th>75%</th>\n",
       "      <td>5957.448333</td>\n",
       "      <td>7.000000</td>\n",
       "      <td>7.00000</td>\n",
       "      <td>20.000000</td>\n",
       "      <td>28.000000</td>\n",
       "      <td>9.000000</td>\n",
       "      <td>36.496663</td>\n",
       "      <td>161.224249</td>\n",
       "    </tr>\n",
       "    <tr>\n",
       "      <th>max</th>\n",
       "      <td>15204.633333</td>\n",
       "      <td>1798.000000</td>\n",
       "      <td>1499.00000</td>\n",
       "      <td>5797.000000</td>\n",
       "      <td>67.000000</td>\n",
       "      <td>2597.000000</td>\n",
       "      <td>50.000000</td>\n",
       "      <td>82331.000000</td>\n",
       "    </tr>\n",
       "  </tbody>\n",
       "</table>\n",
       "</div>"
      ],
      "text/plain": [
       "       Monthly_Inhand_Salary  Num_Bank_Accounts  Num_Credit_Card  \\\n",
       "count           84998.000000      100000.000000     100000.00000   \n",
       "mean             4194.170850          17.091280         22.47443   \n",
       "std              3183.686167         117.404834        129.05741   \n",
       "min               303.645417          -1.000000          0.00000   \n",
       "25%              1625.568229           3.000000          4.00000   \n",
       "50%              3093.745000           6.000000          5.00000   \n",
       "75%              5957.448333           7.000000          7.00000   \n",
       "max             15204.633333        1798.000000       1499.00000   \n",
       "\n",
       "       Interest_Rate  Delay_from_due_date  Num_Credit_Inquiries  \\\n",
       "count  100000.000000        100000.000000          98035.000000   \n",
       "mean       72.466040            21.068780             27.754251   \n",
       "std       466.422621            14.860104            193.177339   \n",
       "min         1.000000            -5.000000              0.000000   \n",
       "25%         8.000000            10.000000              3.000000   \n",
       "50%        13.000000            18.000000              6.000000   \n",
       "75%        20.000000            28.000000              9.000000   \n",
       "max      5797.000000            67.000000           2597.000000   \n",
       "\n",
       "       Credit_Utilization_Ratio  Total_EMI_per_month  \n",
       "count             100000.000000        100000.000000  \n",
       "mean                  32.285173          1403.118217  \n",
       "std                    5.116875          8306.041270  \n",
       "min                   20.000000             0.000000  \n",
       "25%                   28.052567            30.306660  \n",
       "50%                   32.305784            69.249473  \n",
       "75%                   36.496663           161.224249  \n",
       "max                   50.000000         82331.000000  "
      ]
     },
     "execution_count": 6,
     "metadata": {},
     "output_type": "execute_result"
    }
   ],
   "source": [
    "df.describe()"
   ]
  },
  {
   "cell_type": "markdown",
   "id": "86d29680",
   "metadata": {},
   "source": [
    "### Missing Values "
   ]
  },
  {
   "cell_type": "code",
   "execution_count": 7,
   "id": "d6340de2",
   "metadata": {},
   "outputs": [
    {
     "data": {
      "text/plain": [
       "ID                              0\n",
       "Customer_ID                     0\n",
       "Month                           0\n",
       "Name                         9985\n",
       "Age                             0\n",
       "SSN                             0\n",
       "Occupation                      0\n",
       "Annual_Income                   0\n",
       "Monthly_Inhand_Salary       15002\n",
       "Num_Bank_Accounts               0\n",
       "Num_Credit_Card                 0\n",
       "Interest_Rate                   0\n",
       "Num_of_Loan                     0\n",
       "Type_of_Loan                11408\n",
       "Delay_from_due_date             0\n",
       "Num_of_Delayed_Payment       7002\n",
       "Changed_Credit_Limit            0\n",
       "Num_Credit_Inquiries         1965\n",
       "Credit_Mix                      0\n",
       "Outstanding_Debt                0\n",
       "Credit_Utilization_Ratio        0\n",
       "Credit_History_Age           9030\n",
       "Payment_of_Min_Amount           0\n",
       "Total_EMI_per_month             0\n",
       "Amount_invested_monthly      4479\n",
       "Payment_Behaviour               0\n",
       "Monthly_Balance              1200\n",
       "Credit_Score                    0\n",
       "dtype: int64"
      ]
     },
     "execution_count": 7,
     "metadata": {},
     "output_type": "execute_result"
    }
   ],
   "source": [
    "df.isnull().sum()"
   ]
  },
  {
   "cell_type": "code",
   "execution_count": 8,
   "id": "28301d89",
   "metadata": {},
   "outputs": [
    {
     "data": {
      "text/plain": [
       "<Axes: >"
      ]
     },
     "execution_count": 8,
     "metadata": {},
     "output_type": "execute_result"
    },
    {
     "data": {
      "image/png": "[encoded data removed]",
      "text/plain": [
       "<Figure size 640x480 with 1 Axes>"
      ]
     },
     "metadata": {},
     "output_type": "display_data"
    }
   ],
   "source": [
    "df.isnull().sum().plot(kind='bar',color='red')"
   ]
  },
  {
   "cell_type": "markdown",
   "id": "bb2c118a",
   "metadata": {},
   "source": [
    "**we can see we have a null values in 8 columns.**"
   ]
  },
  {
   "cell_type": "markdown",
   "id": "c82cb666",
   "metadata": {},
   "source": [
    "### Data Cleaning"
   ]
  },
  {
   "cell_type": "code",
   "execution_count": 9,
   "id": "568235f9",
   "metadata": {},
   "outputs": [
    {
     "data": {
      "text/plain": [
       "ID                          100000\n",
       "Customer_ID                  12500\n",
       "Month                            8\n",
       "Name                         10139\n",
       "Age                           1788\n",
       "SSN                          12501\n",
       "Occupation                      16\n",
       "Annual_Income                18940\n",
       "Monthly_Inhand_Salary        13235\n",
       "Num_Bank_Accounts              943\n",
       "Num_Credit_Card               1179\n",
       "Interest_Rate                 1750\n",
       "Num_of_Loan                    434\n",
       "Type_of_Loan                  6260\n",
       "Delay_from_due_date             73\n",
       "Num_of_Delayed_Payment         749\n",
       "Changed_Credit_Limit          4384\n",
       "Num_Credit_Inquiries          1223\n",
       "Credit_Mix                       4\n",
       "Outstanding_Debt             13178\n",
       "Credit_Utilization_Ratio    100000\n",
       "Credit_History_Age             404\n",
       "Payment_of_Min_Amount            3\n",
       "Total_EMI_per_month          14950\n",
       "Amount_invested_monthly      91049\n",
       "Payment_Behaviour                7\n",
       "Monthly_Balance              98792\n",
       "Credit_Score                     3\n",
       "dtype: int64"
      ]
     },
     "execution_count": 9,
     "metadata": {},
     "output_type": "execute_result"
    }
   ],
   "source": [
    "df.nunique()"
   ]
  },
  {
   "cell_type": "code",
   "execution_count": 10,
   "id": "b06bcd34",
   "metadata": {},
   "outputs": [],
   "source": [
    "df[\"Age\"]= df[\"Age\"].astype (int)\n",
    "df[\"Occupation\"]=df[\"Occupation\"].replace(\"_______\",np.nan)\n",
    "df[\"Annual_Income\"]=df[\"Annual_Income\"].str.replace(\"_\",\"\")\n",
    "df[\"Annual_Income\"]=df[\"Annual_Income\"].astype (float)\n",
    "df[\"Num_of_Loan\"]=df[\"Num_of_Loan\"].str.replace(\"_\",\"\")\n",
    "df[\"Num_of_Loan\"]=df[\"Num_of_Loan\"].astype(int)\n",
    "df[\"Num_of_Delayed_Payment\"]=df[\"Num_of_Delayed_Payment\"].str.replace(\"_\",\"\")\n",
    "df[\"Num_of_Delayed_Payment\"]=df[\"Num_of_Delayed_Payment\"].astype (float)\n",
    "df[\"Credit Score\"]=df[\"Credit_Score\"].replace([\"Poor\", \"Standard\", \"Good\"], [0,1,2])\n",
    "df[\"Monthly_Balance\"]=df[\"Monthly_Balance\"].str.replace(\"_\",\"\")\n",
    "df[\"Monthly_Balance\"]=df[\"Monthly_Balance\"].astype (float)\n",
    "df[\"Payment_Behaviour\"]=df[\"Payment_Behaviour\"].replace(\"!@9#%8\", np.nan)\n",
    "df[\"Amount_invested_monthly\"]=df['Amount_invested_monthly'].str.replace('_',\"\")\n",
    "df[\"Amount_invested_monthly\"]=df [\"Amount_invested_monthly\"].astype (float)\n",
    "df[\"Payment_of_Min_Amount\"]=df [\"Payment_of_Min_Amount\"].replace(\"NM\",\"No\")\n",
    "df[\"Payment_of_Min_Amount\"]=df[\"Payment_of_Min_Amount\"].replace([\"Yes\",\"No\"],[1,0])\n",
    "df[\"Outstanding_Debt\"]= df[\"Outstanding_Debt\"].str.replace(\"_\",\"\")\n",
    "df[\"Outstanding_Debt\"]=df[\"Outstanding_Debt\"].astype (float)\n",
    "df[\"Credit_Mix\"]=df[\"Credit_Mix\"].replace(\"_\", np.nan)\n",
    "df[\"Changed_Credit_Limit\"]= df[\"Changed_Credit_Limit\"].replace(\"_\", np.nan)\n",
    "df[\"Changed_Credit_Limit\"]= df[\"Changed_Credit_Limit\"].astype (float)"
   ]
  },
  {
   "cell_type": "code",
   "execution_count": 11,
   "id": "cf9b7ae4",
   "metadata": {},
   "outputs": [
    {
     "data": {
      "text/plain": [
       "array([nan, 'Good', 'Standard', 'Bad'], dtype=object)"
      ]
     },
     "execution_count": 11,
     "metadata": {},
     "output_type": "execute_result"
    }
   ],
   "source": [
    "df['Credit_Mix'].unique()"
   ]
  },
  {
   "cell_type": "code",
   "execution_count": 12,
   "id": "a4f9098c",
   "metadata": {},
   "outputs": [],
   "source": [
    "df[\"Credit_Mix\"]=df[\"Credit_Mix\"].replace([\"Standard\",\"Good\",\"Bad\"],[1,2,0])"
   ]
  },
  {
   "cell_type": "code",
   "execution_count": 13,
   "id": "3e6955ef",
   "metadata": {},
   "outputs": [
    {
     "name": "stdout",
     "output_type": "stream",
     "text": [
      "<class 'pandas.core.frame.DataFrame'>\n",
      "RangeIndex: 100000 entries, 0 to 99999\n",
      "Data columns (total 29 columns):\n",
      " #   Column                    Non-Null Count   Dtype  \n",
      "---  ------                    --------------   -----  \n",
      " 0   ID                        100000 non-null  object \n",
      " 1   Customer_ID               100000 non-null  object \n",
      " 2   Month                     100000 non-null  object \n",
      " 3   Name                      90015 non-null   object \n",
      " 4   Age                       100000 non-null  int32  \n",
      " 5   SSN                       100000 non-null  object \n",
      " 6   Occupation                92938 non-null   object \n",
      " 7   Annual_Income             100000 non-null  float64\n",
      " 8   Monthly_Inhand_Salary     84998 non-null   float64\n",
      " 9   Num_Bank_Accounts         100000 non-null  int64  \n",
      " 10  Num_Credit_Card           100000 non-null  int64  \n",
      " 11  Interest_Rate             100000 non-null  int64  \n",
      " 12  Num_of_Loan               100000 non-null  int32  \n",
      " 13  Type_of_Loan              88592 non-null   object \n",
      " 14  Delay_from_due_date       100000 non-null  int64  \n",
      " 15  Num_of_Delayed_Payment    92998 non-null   float64\n",
      " 16  Changed_Credit_Limit      97909 non-null   float64\n",
      " 17  Num_Credit_Inquiries      98035 non-null   float64\n",
      " 18  Credit_Mix                79805 non-null   float64\n",
      " 19  Outstanding_Debt          100000 non-null  float64\n",
      " 20  Credit_Utilization_Ratio  100000 non-null  float64\n",
      " 21  Credit_History_Age        90970 non-null   object \n",
      " 22  Payment_of_Min_Amount     100000 non-null  int64  \n",
      " 23  Total_EMI_per_month       100000 non-null  float64\n",
      " 24  Amount_invested_monthly   95521 non-null   float64\n",
      " 25  Payment_Behaviour         92400 non-null   object \n",
      " 26  Monthly_Balance           97132 non-null   float64\n",
      " 27  Credit_Score              100000 non-null  object \n",
      " 28  Credit Score              100000 non-null  int64  \n",
      "dtypes: float64(11), int32(2), int64(6), object(10)\n",
      "memory usage: 21.4+ MB\n"
     ]
    }
   ],
   "source": [
    "df.info()"
   ]
  },
  {
   "cell_type": "code",
   "execution_count": 14,
   "id": "0529b8b3",
   "metadata": {},
   "outputs": [],
   "source": [
    "#creating a copy of data for future use \n",
    "copy_df = df.copy()"
   ]
  },
  {
   "cell_type": "code",
   "execution_count": 15,
   "id": "8eef77c3",
   "metadata": {},
   "outputs": [
    {
     "data": {
      "text/plain": [
       "ID                              0\n",
       "Customer_ID                     0\n",
       "Month                           0\n",
       "Name                         9985\n",
       "Age                             0\n",
       "SSN                             0\n",
       "Occupation                   7062\n",
       "Annual_Income                   0\n",
       "Monthly_Inhand_Salary       15002\n",
       "Num_Bank_Accounts               0\n",
       "Num_Credit_Card                 0\n",
       "Interest_Rate                   0\n",
       "Num_of_Loan                     0\n",
       "Type_of_Loan                11408\n",
       "Delay_from_due_date             0\n",
       "Num_of_Delayed_Payment       7002\n",
       "Changed_Credit_Limit         2091\n",
       "Num_Credit_Inquiries         1965\n",
       "Credit_Mix                  20195\n",
       "Outstanding_Debt                0\n",
       "Credit_Utilization_Ratio        0\n",
       "Credit_History_Age           9030\n",
       "Payment_of_Min_Amount           0\n",
       "Total_EMI_per_month             0\n",
       "Amount_invested_monthly      4479\n",
       "Payment_Behaviour            7600\n",
       "Monthly_Balance              2868\n",
       "Credit_Score                    0\n",
       "Credit Score                    0\n",
       "dtype: int64"
      ]
     },
     "execution_count": 15,
     "metadata": {},
     "output_type": "execute_result"
    }
   ],
   "source": [
    "df.isnull().sum()"
   ]
  },
  {
   "cell_type": "code",
   "execution_count": 16,
   "id": "fe69850b",
   "metadata": {},
   "outputs": [
    {
     "data": {
      "text/plain": [
       "ID                          0\n",
       "Customer_ID                 0\n",
       "Month                       0\n",
       "Name                        0\n",
       "Age                         0\n",
       "SSN                         0\n",
       "Occupation                  0\n",
       "Annual_Income               0\n",
       "Monthly_Inhand_Salary       0\n",
       "Num_Bank_Accounts           0\n",
       "Num_Credit_Card             0\n",
       "Interest_Rate               0\n",
       "Num_of_Loan                 0\n",
       "Type_of_Loan                0\n",
       "Delay_from_due_date         0\n",
       "Num_of_Delayed_Payment      0\n",
       "Changed_Credit_Limit        0\n",
       "Num_Credit_Inquiries        0\n",
       "Credit_Mix                  0\n",
       "Outstanding_Debt            0\n",
       "Credit_Utilization_Ratio    0\n",
       "Credit_History_Age          0\n",
       "Payment_of_Min_Amount       0\n",
       "Total_EMI_per_month         0\n",
       "Amount_invested_monthly     0\n",
       "Payment_Behaviour           0\n",
       "Monthly_Balance             0\n",
       "Credit_Score                0\n",
       "Credit Score                0\n",
       "dtype: int64"
      ]
     },
     "execution_count": 16,
     "metadata": {},
     "output_type": "execute_result"
    }
   ],
   "source": [
    "#useing forward and backward filling\n",
    "df = df.fillna(method='ffill')\n",
    "df = df.fillna(method='bfill')\n",
    "df.isnull().sum()"
   ]
  },
  {
   "cell_type": "markdown",
   "id": "baecf758",
   "metadata": {},
   "source": [
    "## After replacing the special characters with null value. The new missing value is shown in the figure. Here Forward and backward filling method is used to fill the missing values."
   ]
  },
  {
   "cell_type": "markdown",
   "id": "481dfab6",
   "metadata": {},
   "source": [
    "## Removing the outliers "
   ]
  },
  {
   "cell_type": "code",
   "execution_count": 17,
   "id": "e09c7cba",
   "metadata": {},
   "outputs": [
    {
     "data": {
      "image/png": "[encoded data removed]",
      "text/plain": [
       "<Figure size 640x480 with 1 Axes>"
      ]
     },
     "metadata": {},
     "output_type": "display_data"
    }
   ],
   "source": [
    "sns.boxplot(df['Age'])\n",
    "plt.show()"
   ]
  },
  {
   "cell_type": "code",
   "execution_count": 18,
   "id": "3d4ccab8",
   "metadata": {},
   "outputs": [
    {
     "data": {
      "image/png": "[encoded data removed]",
      "text/plain": [
       "<Figure size 640x480 with 1 Axes>"
      ]
     },
     "metadata": {},
     "output_type": "display_data"
    }
   ],
   "source": [
    "col_names=[\"Age\"]\n",
    "Q1 = df.Age.quantile(0.25)\n",
    "Q3 = df.Age.quantile(0.75)\n",
    "IQR = Q3 - Q1\n",
    "data = df[(df.Age >= Q1 -1.5*IQR) & (df.Age <= Q3 +1.5*IQR)]\n",
    "sns.boxplot(data[\"Age\"])\n",
    "plt.xlabel(\"Age\")\n",
    "plt.ylabel('count')\n",
    "plt.show()"
   ]
  },
  {
   "cell_type": "markdown",
   "id": "9e2e0281",
   "metadata": {},
   "source": [
    "## EDA"
   ]
  },
  {
   "cell_type": "code",
   "execution_count": 19,
   "id": "92154477",
   "metadata": {},
   "outputs": [
    {
     "name": "stdout",
     "output_type": "stream",
     "text": [
      "<class 'pandas.core.frame.DataFrame'>\n",
      "RangeIndex: 100000 entries, 0 to 99999\n",
      "Data columns (total 29 columns):\n",
      " #   Column                    Non-Null Count   Dtype  \n",
      "---  ------                    --------------   -----  \n",
      " 0   ID                        100000 non-null  object \n",
      " 1   Customer_ID               100000 non-null  object \n",
      " 2   Month                     100000 non-null  object \n",
      " 3   Name                      100000 non-null  object \n",
      " 4   Age                       100000 non-null  int32  \n",
      " 5   SSN                       100000 non-null  object \n",
      " 6   Occupation                100000 non-null  object \n",
      " 7   Annual_Income             100000 non-null  float64\n",
      " 8   Monthly_Inhand_Salary     100000 non-null  float64\n",
      " 9   Num_Bank_Accounts         100000 non-null  int64  \n",
      " 10  Num_Credit_Card           100000 non-null  int64  \n",
      " 11  Interest_Rate             100000 non-null  int64  \n",
      " 12  Num_of_Loan               100000 non-null  int32  \n",
      " 13  Type_of_Loan              100000 non-null  object \n",
      " 14  Delay_from_due_date       100000 non-null  int64  \n",
      " 15  Num_of_Delayed_Payment    100000 non-null  float64\n",
      " 16  Changed_Credit_Limit      100000 non-null  float64\n",
      " 17  Num_Credit_Inquiries      100000 non-null  float64\n",
      " 18  Credit_Mix                100000 non-null  float64\n",
      " 19  Outstanding_Debt          100000 non-null  float64\n",
      " 20  Credit_Utilization_Ratio  100000 non-null  float64\n",
      " 21  Credit_History_Age        100000 non-null  object \n",
      " 22  Payment_of_Min_Amount     100000 non-null  int64  \n",
      " 23  Total_EMI_per_month       100000 non-null  float64\n",
      " 24  Amount_invested_monthly   100000 non-null  float64\n",
      " 25  Payment_Behaviour         100000 non-null  object \n",
      " 26  Monthly_Balance           100000 non-null  float64\n",
      " 27  Credit_Score              100000 non-null  object \n",
      " 28  Credit Score              100000 non-null  int64  \n",
      "dtypes: float64(11), int32(2), int64(6), object(10)\n",
      "memory usage: 21.4+ MB\n"
     ]
    }
   ],
   "source": [
    "df.info()"
   ]
  },
  {
   "cell_type": "code",
   "execution_count": 20,
   "id": "682b5095",
   "metadata": {},
   "outputs": [],
   "source": [
    "df = df.drop(['Credit_Score','ID','Customer_ID','Name','SSN','Credit_History_Age'],axis=1)"
   ]
  },
  {
   "cell_type": "code",
   "execution_count": 21,
   "id": "971c5e66",
   "metadata": {},
   "outputs": [],
   "source": [
    "df = df.drop('Type_of_Loan',axis=1)"
   ]
  },
  {
   "cell_type": "markdown",
   "id": "2cc41bb8",
   "metadata": {},
   "source": [
    "### I have droped all the columns that are not too much usefull for the model, The column conatins too much unqiue values"
   ]
  },
  {
   "cell_type": "code",
   "execution_count": 22,
   "id": "d79952ea",
   "metadata": {},
   "outputs": [
    {
     "name": "stdout",
     "output_type": "stream",
     "text": [
      "<class 'pandas.core.frame.DataFrame'>\n",
      "RangeIndex: 100000 entries, 0 to 99999\n",
      "Data columns (total 22 columns):\n",
      " #   Column                    Non-Null Count   Dtype  \n",
      "---  ------                    --------------   -----  \n",
      " 0   Month                     100000 non-null  object \n",
      " 1   Age                       100000 non-null  int32  \n",
      " 2   Occupation                100000 non-null  object \n",
      " 3   Annual_Income             100000 non-null  float64\n",
      " 4   Monthly_Inhand_Salary     100000 non-null  float64\n",
      " 5   Num_Bank_Accounts         100000 non-null  int64  \n",
      " 6   Num_Credit_Card           100000 non-null  int64  \n",
      " 7   Interest_Rate             100000 non-null  int64  \n",
      " 8   Num_of_Loan               100000 non-null  int32  \n",
      " 9   Delay_from_due_date       100000 non-null  int64  \n",
      " 10  Num_of_Delayed_Payment    100000 non-null  float64\n",
      " 11  Changed_Credit_Limit      100000 non-null  float64\n",
      " 12  Num_Credit_Inquiries      100000 non-null  float64\n",
      " 13  Credit_Mix                100000 non-null  float64\n",
      " 14  Outstanding_Debt          100000 non-null  float64\n",
      " 15  Credit_Utilization_Ratio  100000 non-null  float64\n",
      " 16  Payment_of_Min_Amount     100000 non-null  int64  \n",
      " 17  Total_EMI_per_month       100000 non-null  float64\n",
      " 18  Amount_invested_monthly   100000 non-null  float64\n",
      " 19  Payment_Behaviour         100000 non-null  object \n",
      " 20  Monthly_Balance           100000 non-null  float64\n",
      " 21  Credit Score              100000 non-null  int64  \n",
      "dtypes: float64(11), int32(2), int64(6), object(3)\n",
      "memory usage: 16.0+ MB\n"
     ]
    }
   ],
   "source": [
    "df.info()"
   ]
  },
  {
   "cell_type": "markdown",
   "id": "a168c18f",
   "metadata": {},
   "source": [
    "### Label encoded the object data type"
   ]
  },
  {
   "cell_type": "code",
   "execution_count": 23,
   "id": "1f446804",
   "metadata": {},
   "outputs": [],
   "source": [
    "from sklearn.preprocessing import LabelEncoder\n",
    "le = LabelEncoder()"
   ]
  },
  {
   "cell_type": "code",
   "execution_count": 24,
   "id": "2bbf0766",
   "metadata": {},
   "outputs": [],
   "source": [
    "df['Month'] = le.fit_transform(df['Month'])\n",
    "df['Occupation'] = le.fit_transform(df['Occupation'])\n",
    "df['Payment_Behaviour'] = le.fit_transform(df['Payment_Behaviour'])"
   ]
  },
  {
   "cell_type": "markdown",
   "id": "e1f7ea45",
   "metadata": {},
   "source": [
    "## Feature Selection "
   ]
  },
  {
   "cell_type": "code",
   "execution_count": 25,
   "id": "6d3b7e4a",
   "metadata": {},
   "outputs": [
    {
     "data": {
      "text/html": [
       "<div>\n",
       "<style scoped>\n",
       "    .dataframe tbody tr th:only-of-type {\n",
       "        vertical-align: middle;\n",
       "    }\n",
       "\n",
       "    .dataframe tbody tr th {\n",
       "        vertical-align: top;\n",
       "    }\n",
       "\n",
       "    .dataframe thead th {\n",
       "        text-align: right;\n",
       "    }\n",
       "</style>\n",
       "<table border=\"1\" class=\"dataframe\">\n",
       "  <thead>\n",
       "    <tr style=\"text-align: right;\">\n",
       "      <th></th>\n",
       "      <th>feature</th>\n",
       "      <th>VIF</th>\n",
       "    </tr>\n",
       "  </thead>\n",
       "  <tbody>\n",
       "    <tr>\n",
       "      <th>0</th>\n",
       "      <td>Month</td>\n",
       "      <td>0.300012</td>\n",
       "    </tr>\n",
       "    <tr>\n",
       "      <th>1</th>\n",
       "      <td>Age</td>\n",
       "      <td>0.974661</td>\n",
       "    </tr>\n",
       "    <tr>\n",
       "      <th>2</th>\n",
       "      <td>Occupation</td>\n",
       "      <td>0.277722</td>\n",
       "    </tr>\n",
       "    <tr>\n",
       "      <th>3</th>\n",
       "      <td>Annual_Income</td>\n",
       "      <td>0.985001</td>\n",
       "    </tr>\n",
       "    <tr>\n",
       "      <th>4</th>\n",
       "      <td>Monthly_Inhand_Salary</td>\n",
       "      <td>0.365970</td>\n",
       "    </tr>\n",
       "    <tr>\n",
       "      <th>5</th>\n",
       "      <td>Num_Bank_Accounts</td>\n",
       "      <td>0.979247</td>\n",
       "    </tr>\n",
       "    <tr>\n",
       "      <th>6</th>\n",
       "      <td>Num_Credit_Card</td>\n",
       "      <td>0.970567</td>\n",
       "    </tr>\n",
       "    <tr>\n",
       "      <th>7</th>\n",
       "      <td>Interest_Rate</td>\n",
       "      <td>0.976430</td>\n",
       "    </tr>\n",
       "    <tr>\n",
       "      <th>8</th>\n",
       "      <td>Num_of_Loan</td>\n",
       "      <td>0.997697</td>\n",
       "    </tr>\n",
       "    <tr>\n",
       "      <th>9</th>\n",
       "      <td>Delay_from_due_date</td>\n",
       "      <td>0.332213</td>\n",
       "    </tr>\n",
       "    <tr>\n",
       "      <th>10</th>\n",
       "      <td>Num_of_Delayed_Payment</td>\n",
       "      <td>0.981707</td>\n",
       "    </tr>\n",
       "    <tr>\n",
       "      <th>11</th>\n",
       "      <td>Changed_Credit_Limit</td>\n",
       "      <td>0.299307</td>\n",
       "    </tr>\n",
       "    <tr>\n",
       "      <th>12</th>\n",
       "      <td>Num_Credit_Inquiries</td>\n",
       "      <td>0.979793</td>\n",
       "    </tr>\n",
       "    <tr>\n",
       "      <th>13</th>\n",
       "      <td>Credit_Mix</td>\n",
       "      <td>0.321474</td>\n",
       "    </tr>\n",
       "    <tr>\n",
       "      <th>14</th>\n",
       "      <td>Outstanding_Debt</td>\n",
       "      <td>0.396141</td>\n",
       "    </tr>\n",
       "    <tr>\n",
       "      <th>15</th>\n",
       "      <td>Credit_Utilization_Ratio</td>\n",
       "      <td>0.024506</td>\n",
       "    </tr>\n",
       "    <tr>\n",
       "      <th>16</th>\n",
       "      <td>Payment_of_Min_Amount</td>\n",
       "      <td>0.476749</td>\n",
       "    </tr>\n",
       "    <tr>\n",
       "      <th>17</th>\n",
       "      <td>Total_EMI_per_month</td>\n",
       "      <td>0.972258</td>\n",
       "    </tr>\n",
       "    <tr>\n",
       "      <th>18</th>\n",
       "      <td>Amount_invested_monthly</td>\n",
       "      <td>0.911321</td>\n",
       "    </tr>\n",
       "    <tr>\n",
       "      <th>19</th>\n",
       "      <td>Payment_Behaviour</td>\n",
       "      <td>0.310525</td>\n",
       "    </tr>\n",
       "    <tr>\n",
       "      <th>20</th>\n",
       "      <td>Monthly_Balance</td>\n",
       "      <td>1.000209</td>\n",
       "    </tr>\n",
       "    <tr>\n",
       "      <th>21</th>\n",
       "      <td>Credit Score</td>\n",
       "      <td>0.366158</td>\n",
       "    </tr>\n",
       "  </tbody>\n",
       "</table>\n",
       "</div>"
      ],
      "text/plain": [
       "                     feature       VIF\n",
       "0                      Month  0.300012\n",
       "1                        Age  0.974661\n",
       "2                 Occupation  0.277722\n",
       "3              Annual_Income  0.985001\n",
       "4      Monthly_Inhand_Salary  0.365970\n",
       "5          Num_Bank_Accounts  0.979247\n",
       "6            Num_Credit_Card  0.970567\n",
       "7              Interest_Rate  0.976430\n",
       "8                Num_of_Loan  0.997697\n",
       "9        Delay_from_due_date  0.332213\n",
       "10    Num_of_Delayed_Payment  0.981707\n",
       "11      Changed_Credit_Limit  0.299307\n",
       "12      Num_Credit_Inquiries  0.979793\n",
       "13                Credit_Mix  0.321474\n",
       "14          Outstanding_Debt  0.396141\n",
       "15  Credit_Utilization_Ratio  0.024506\n",
       "16     Payment_of_Min_Amount  0.476749\n",
       "17       Total_EMI_per_month  0.972258\n",
       "18   Amount_invested_monthly  0.911321\n",
       "19         Payment_Behaviour  0.310525\n",
       "20           Monthly_Balance  1.000209\n",
       "21              Credit Score  0.366158"
      ]
     },
     "execution_count": 25,
     "metadata": {},
     "output_type": "execute_result"
    }
   ],
   "source": [
    "#Useing VIF. \n",
    "from statsmodels.stats.outliers_influence import variance_inflation_factor \n",
    "col_list = []\n",
    "for col in df.columns:\n",
    "    if ((df[col].dtype != 'object') & (col != 'y') ):\n",
    "        col_list.append(col)\n",
    "\n",
    "X =df[col_list]\n",
    "vif_data =pd.DataFrame()\n",
    "vif_data[\"feature\"] =X.columns\n",
    "vif_data[\"VIF\"] = [variance_inflation_factor(X.values,i)\n",
    "                          for i in range(len(X.columns))]\n",
    "vif_data"
   ]
  },
  {
   "cell_type": "markdown",
   "id": "6455e61d",
   "metadata": {},
   "source": [
    "**Selecting the features using VIF. VIF should be less \n",
    "than 5. Here, all features have VIF value less than \n",
    "5, So we will select all the features.**"
   ]
  },
  {
   "cell_type": "markdown",
   "id": "d91003a9",
   "metadata": {},
   "source": [
    "## MODEL BUILDING"
   ]
  },
  {
   "cell_type": "markdown",
   "id": "35e3e1d8",
   "metadata": {},
   "source": [
    "### Logistic Regression\n"
   ]
  },
  {
   "cell_type": "code",
   "execution_count": 26,
   "id": "1d5548fc",
   "metadata": {},
   "outputs": [
    {
     "name": "stdout",
     "output_type": "stream",
     "text": [
      "0.61855\n",
      "              precision    recall  f1-score   support\n",
      "\n",
      "           0       0.41      0.64      0.50      3774\n",
      "           1       0.71      0.65      0.68     11569\n",
      "           2       0.67      0.51      0.58      4657\n",
      "\n",
      "    accuracy                           0.62     20000\n",
      "   macro avg       0.60      0.60      0.59     20000\n",
      "weighted avg       0.65      0.62      0.63     20000\n",
      "\n"
     ]
    }
   ],
   "source": [
    "X = df.drop('Credit Score',axis=1)\n",
    "y = df['Credit Score']\n",
    "from sklearn.model_selection import train_test_split\n",
    "from sklearn.linear_model import LogisticRegression\n",
    "from sklearn.preprocessing import StandardScaler\n",
    "from sklearn.metrics import accuracy_score\n",
    "from sklearn.metrics import classification_report\n",
    "X_train,X_test,y_train,y_test = train_test_split(X,y,test_size=0.20,random_state=42)\n",
    "sc = StandardScaler()\n",
    "X_train = sc.fit_transform(X_train)\n",
    "X_test = sc.transform(X_test)\n",
    "lr = LogisticRegression()\n",
    "lr.fit(X_train,y_train)\n",
    "y_pred = lr.predict(X_test)\n",
    "print(accuracy_score(y_pred,y_test))\n",
    "print(classification_report(y_pred,y_test))"
   ]
  },
  {
   "cell_type": "markdown",
   "id": "1923ce36",
   "metadata": {},
   "source": [
    "### Decsion Tree "
   ]
  },
  {
   "cell_type": "code",
   "execution_count": 27,
   "id": "fd09d0f8",
   "metadata": {},
   "outputs": [
    {
     "name": "stdout",
     "output_type": "stream",
     "text": [
      "0.6968\n",
      "              precision    recall  f1-score   support\n",
      "\n",
      "           0       0.67      0.68      0.68      5799\n",
      "           1       0.73      0.73      0.73     10657\n",
      "           2       0.63      0.63      0.63      3544\n",
      "\n",
      "    accuracy                           0.70     20000\n",
      "   macro avg       0.68      0.68      0.68     20000\n",
      "weighted avg       0.70      0.70      0.70     20000\n",
      "\n"
     ]
    }
   ],
   "source": [
    "from sklearn.tree import DecisionTreeClassifier\n",
    "dc = DecisionTreeClassifier()\n",
    "dc.fit(X_train,y_train)\n",
    "dc_pred = dc.predict(X_test)\n",
    "print(accuracy_score(dc_pred,y_test))\n",
    "print(classification_report(dc_pred,y_test))"
   ]
  },
  {
   "cell_type": "markdown",
   "id": "9983afda",
   "metadata": {},
   "source": [
    "### Random Forest "
   ]
  },
  {
   "cell_type": "code",
   "execution_count": 28,
   "id": "a6dc0a06",
   "metadata": {},
   "outputs": [
    {
     "name": "stdout",
     "output_type": "stream",
     "text": [
      "0.79815\n",
      "              precision    recall  f1-score   support\n",
      "\n",
      "           0       0.82      0.79      0.80      6081\n",
      "           1       0.81      0.82      0.81     10520\n",
      "           2       0.73      0.76      0.74      3399\n",
      "\n",
      "    accuracy                           0.80     20000\n",
      "   macro avg       0.79      0.79      0.79     20000\n",
      "weighted avg       0.80      0.80      0.80     20000\n",
      "\n"
     ]
    }
   ],
   "source": [
    "from sklearn.ensemble import RandomForestClassifier\n",
    "rf = RandomForestClassifier()\n",
    "rf.fit(X_train,y_train)\n",
    "rf_pred = rf.predict(X_test)\n",
    "print(accuracy_score(rf_pred,y_test))\n",
    "print(classification_report(rf_pred,y_test))"
   ]
  },
  {
   "cell_type": "code",
   "execution_count": 29,
   "id": "68ec65e9",
   "metadata": {},
   "outputs": [
    {
     "data": {
      "image/png": "[encoded data removed]",
      "text/plain": [
       "<Figure size 800x800 with 1 Axes>"
      ]
     },
     "metadata": {},
     "output_type": "display_data"
    }
   ],
   "source": [
    "importances = rf.feature_importances_\n",
    "indices = np.argsort(importances)\n",
    "feature_names = list(X.columns)\n",
    "\n",
    "plt.figure(figsize=(8,8))\n",
    "plt.title('Feature Importances')\n",
    "plt.barh(range(len(indices)), importances[indices], color='violet', align='center')\n",
    "plt.yticks(range(len(indices)), [feature_names[i] for i in indices])\n",
    "plt.xlabel('Relative Importance')\n",
    "plt.show()"
   ]
  },
  {
   "cell_type": "markdown",
   "id": "48a9781f",
   "metadata": {},
   "source": [
    "### Hyper Parameter Tuning "
   ]
  },
  {
   "cell_type": "code",
   "execution_count": 31,
   "id": "297edecc",
   "metadata": {},
   "outputs": [
    {
     "name": "stdout",
     "output_type": "stream",
     "text": [
      "Best hyperparameters: {'max_depth': 15, 'min_samples_split': 2, 'n_estimators': 100}\n",
      "Accuracy on test set: 0.7546\n"
     ]
    }
   ],
   "source": [
    "from sklearn.model_selection import GridSearchCV\n",
    "param_grid = {\n",
    "    'n_estimators': [50, 100, 150],\n",
    "    'max_depth': [5, 10, 15],\n",
    "    'min_samples_split': [2, 5, 10]\n",
    "}\n",
    "\n",
    "# Perform GridSearchCV to find the best hyperparameters\n",
    "grid_search = GridSearchCV(rf, param_grid, cv=2)\n",
    "grid_search.fit(X_train,y_train)\n",
    "\n",
    "# Print the best hyperparameters\n",
    "print(\"Best hyperparameters:\", grid_search.best_params_)\n",
    "\n",
    "# Evaluate the model with the best hyperparameters on the testing set\n",
    "best_rfc = grid_search.best_estimator_\n",
    "#X_test_scaled_selected = scaler.transform(X_test.iloc[:, best_rfc.feature_importances_ > 0])\n",
    "print(\"Accuracy on test set:\", best_rfc.score(X_test, y_test))"
   ]
  },
  {
   "cell_type": "markdown",
   "id": "cb4cc35f",
   "metadata": {},
   "source": [
    "### Feature Extraction "
   ]
  },
  {
   "cell_type": "markdown",
   "id": "6e3341bc",
   "metadata": {},
   "source": [
    "### LDA"
   ]
  },
  {
   "cell_type": "code",
   "execution_count": 32,
   "id": "183c808c",
   "metadata": {},
   "outputs": [
    {
     "name": "stdout",
     "output_type": "stream",
     "text": [
      "Accuracy Score:  0.60325\n"
     ]
    }
   ],
   "source": [
    "from sklearn.discriminant_analysis import LinearDiscriminantAnalysis\n",
    "lda = LinearDiscriminantAnalysis()\n",
    "X_train_lda = lda.fit_transform(X_train, y_train)\n",
    "X_test_lda = lda.transform(X_test)\n",
    "rf = RandomForestClassifier()\n",
    "rf.fit(X_train_lda, y_train)\n",
    "\n",
    "# Predict using Random Forest Classifier\n",
    "y_pred = rf.predict(X_test_lda)\n",
    "\n",
    "# Calculate accuracy score\n",
    "accuracy = accuracy_score(y_test, y_pred)\n",
    "print(\"Accuracy Score: \", accuracy)"
   ]
  },
  {
   "cell_type": "markdown",
   "id": "382659a5",
   "metadata": {},
   "source": [
    "### PCA"
   ]
  },
  {
   "cell_type": "code",
   "execution_count": 34,
   "id": "602da945",
   "metadata": {},
   "outputs": [
    {
     "name": "stdout",
     "output_type": "stream",
     "text": [
      "Accuracy Score:  0.58665\n"
     ]
    }
   ],
   "source": [
    "from sklearn.decomposition import PCA\n",
    "pca = PCA(n_components=2)\n",
    "X_train_pca = pca.fit_transform(X_train)\n",
    "X_test_pca = pca.transform(X_test)\n",
    "\n",
    "# Train Random Forest Classifier\n",
    "rf = RandomForestClassifier()\n",
    "rf.fit(X_train_pca, y_train)\n",
    "\n",
    "# Predict using Random Forest Classifier\n",
    "y_pred = rf.predict(X_test_pca)\n",
    "\n",
    "# Calculate accuracy score\n",
    "accuracy = accuracy_score(y_test, y_pred)\n",
    "print(\"Accuracy Score: \", accuracy)"
   ]
  },
  {
   "cell_type": "code",
   "execution_count": null,
   "id": "ae245d74",
   "metadata": {},
   "outputs": [],
   "source": []
  }
 ],
 "metadata": {
  "kernelspec": {
   "display_name": "Python 3 (ipykernel)",
   "language": "python",
   "name": "python3"
  },
  "language_info": {
   "codemirror_mode": {
    "name": "ipython",
    "version": 3
   },
   "file_extension": ".py",
   "mimetype": "text/x-python",
   "name": "python",
   "nbconvert_exporter": "python",
   "pygments_lexer": "ipython3",
   "version": "3.9.16"
  }
 },
 "nbformat": 4,
 "nbformat_minor": 5
}
